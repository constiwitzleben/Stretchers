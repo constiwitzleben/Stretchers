{
 "cells": [
  {
   "cell_type": "code",
   "execution_count": 49,
   "id": "85d11e62-cba9-4b41-90ce-861bbc5d3764",
   "metadata": {},
   "outputs": [],
   "source": [
    "import torch\n",
    "import torch.nn as nn\n",
    "import torch.optim as optim\n",
    "from torch.utils.data import TensorDataset, DataLoader, random_split"
   ]
  },
  {
   "cell_type": "code",
   "execution_count": 50,
   "id": "85986d0b-9729-4fdf-94fa-a51e02e94b1f",
   "metadata": {},
   "outputs": [
    {
     "name": "stderr",
     "output_type": "stream",
     "text": [
      "/tmp/ipykernel_21061/826197558.py:3: FutureWarning: You are using `torch.load` with `weights_only=False` (the current default value), which uses the default pickle module implicitly. It is possible to construct malicious pickle data which will execute arbitrary code during unpickling (See https://github.com/pytorch/pytorch/blob/main/SECURITY.md#untrusted-models for more details). In a future release, the default value for `weights_only` will be flipped to `True`. This limits the functions that could be executed during unpickling. Arbitrary objects will no longer be allowed to be loaded via this mode unless they are explicitly allowlisted by the user via `torch.serialization.add_safe_globals`. We recommend you start setting `weights_only=True` for any use case where you don't have full control of the loaded file. Please open an issue on GitHub for any issues related to this experimental feature.\n",
      "  data = torch.load(file_path)\n"
     ]
    }
   ],
   "source": [
    "# Load the dataset\n",
    "file_path = \"data/DeDoDe_Descriptors_Dataset.pth\"  # Change this to your actual path\n",
    "data = torch.load(file_path)\n",
    "base_descriptors = data['descriptors']  # Assuming these keys exist\n",
    "transformed_descriptors = data['deformed_descriptors']"
   ]
  },
  {
   "cell_type": "code",
   "execution_count": 51,
   "id": "adb9a44a-0665-49c8-bf92-052b441aeaf6",
   "metadata": {},
   "outputs": [],
   "source": [
    "# Select the data corresponding to transformation 0\n",
    "transformations = data['transformations']\n",
    "transformations = torch.repeat_interleave(transformations, repeats=8, dim=1).flatten()\n",
    "idx = transformations == 31\n",
    "base_descriptors = base_descriptors[idx]\n",
    "transformed_descriptors = transformed_descriptors[idx]"
   ]
  },
  {
   "cell_type": "code",
   "execution_count": 52,
   "id": "3215b0cf-6bd0-4a4c-a4aa-4d13059a200e",
   "metadata": {
    "jupyter": {
     "source_hidden": true
    }
   },
   "outputs": [
    {
     "name": "stdout",
     "output_type": "stream",
     "text": [
      "tensor([[ 0.8651,  0.2148,  0.1459,  ..., -0.3268,  0.1482,  0.4894],\n",
      "        [-0.3635,  0.0501,  0.0675,  ..., -0.6345, -0.5220,  0.2216],\n",
      "        [-0.0612,  0.5054,  0.1808,  ..., -0.2336, -1.0503, -0.0952],\n",
      "        ...,\n",
      "        [-0.5589,  0.1584,  0.0729,  ..., -0.6847,  0.3972,  0.2990],\n",
      "        [ 0.5017,  0.2304, -0.1690,  ...,  0.5677, -0.1402, -0.5549],\n",
      "        [ 0.9935, -0.2173, -0.8181,  ...,  1.5885,  0.0631, -0.5063]],\n",
      "       dtype=torch.float64)\n",
      "tensor(-0.0361, dtype=torch.float64)\n",
      "tensor(0.0546, dtype=torch.float64)\n"
     ]
    }
   ],
   "source": [
    "print(base_descriptors)\n",
    "print(transformed_descriptors[0].mean())\n",
    "print(torch.nn.functional.cosine_similarity(base_descriptors,transformed_descriptors,dim = 1).mean())\n"
   ]
  },
  {
   "cell_type": "code",
   "execution_count": 58,
   "id": "004f6d01-e2dd-41b3-9ac2-106f09ef025c",
   "metadata": {},
   "outputs": [],
   "source": [
    "# Create a dataset and dataloader\n",
    "dataset = TensorDataset(base_descriptors, transformed_descriptors)\n",
    "train_size = 0.8\n",
    "val_size = 0.2\n",
    "\n",
    "train_dataset, val_dataset = random_split(dataset,[train_size,val_size])\n",
    "\n",
    "train_dataloader = DataLoader(train_dataset, batch_size=4, shuffle=True)\n",
    "val_dataloader = DataLoader(val_dataset, batch_size=4, shuffle=False)"
   ]
  },
  {
   "cell_type": "code",
   "execution_count": 59,
   "id": "edd52c0a-f456-49be-9183-087c5118b9d0",
   "metadata": {},
   "outputs": [],
   "source": [
    "# Define the MLP model\n",
    "class MLP(nn.Module):\n",
    "    def __init__(self, input_dim, output_dim, hidden_dim=256):\n",
    "        super(MLP, self).__init__()\n",
    "        self.model = nn.Sequential(\n",
    "            # nn.Linear(input_dim,output_dim)\n",
    "            nn.Linear(input_dim, hidden_dim),\n",
    "            nn.ReLU(),\n",
    "            nn.Linear(hidden_dim, hidden_dim),\n",
    "            nn.ReLU(),\n",
    "            nn.Linear(hidden_dim, output_dim)\n",
    "        )\n",
    "    \n",
    "    def forward(self, x):\n",
    "        return self.model(x)"
   ]
  },
  {
   "cell_type": "code",
   "execution_count": 60,
   "id": "d9162505-b024-4653-8b16-9130af66fb14",
   "metadata": {},
   "outputs": [
    {
     "name": "stdout",
     "output_type": "stream",
     "text": [
      "cuda\n"
     ]
    }
   ],
   "source": [
    "# Initialize the model\n",
    "device = torch.device(\"cuda\" if torch.cuda.is_available() else \"cpu\")\n",
    "print(device)\n",
    "input_dim = base_descriptors.shape[1]\n",
    "output_dim = transformed_descriptors.shape[1]\n",
    "model = MLP(input_dim,output_dim).double().to(device)"
   ]
  },
  {
   "cell_type": "code",
   "execution_count": 61,
   "id": "8db5cfb5-8e2a-4785-b207-004bdd93d0a3",
   "metadata": {},
   "outputs": [],
   "source": [
    "# Define loss function and optimizer\n",
    "# criterion = nn.CosineEmbeddingLoss()\n",
    "criterion = nn.MSELoss()\n",
    "optimizer = optim.Adam(model.parameters(), lr=0.001)"
   ]
  },
  {
   "cell_type": "code",
   "execution_count": 62,
   "id": "968c916b-3c41-4e14-9007-b99f7c0b9579",
   "metadata": {},
   "outputs": [
    {
     "name": "stdout",
     "output_type": "stream",
     "text": [
      "Epoch 10/250, Train Loss: 0.059786, Val Loss: 0.199120\n",
      "Epoch 20/250, Train Loss: 0.034859, Val Loss: 0.214445\n",
      "Epoch 30/250, Train Loss: 0.027924, Val Loss: 0.221344\n",
      "Epoch 40/250, Train Loss: 0.024899, Val Loss: 0.226538\n",
      "Epoch 50/250, Train Loss: 0.022385, Val Loss: 0.227303\n",
      "Epoch 60/250, Train Loss: 0.021377, Val Loss: 0.228174\n",
      "Epoch 70/250, Train Loss: 0.020165, Val Loss: 0.230588\n",
      "Epoch 80/250, Train Loss: 0.019428, Val Loss: 0.232092\n",
      "Epoch 90/250, Train Loss: 0.018981, Val Loss: 0.231298\n",
      "Epoch 100/250, Train Loss: 0.018303, Val Loss: 0.232174\n",
      "Epoch 110/250, Train Loss: 0.018125, Val Loss: 0.232820\n",
      "Epoch 120/250, Train Loss: 0.017345, Val Loss: 0.232749\n",
      "Epoch 130/250, Train Loss: 0.016414, Val Loss: 0.233026\n",
      "Epoch 140/250, Train Loss: 0.016956, Val Loss: 0.233865\n",
      "Epoch 150/250, Train Loss: 0.016569, Val Loss: 0.233926\n",
      "Epoch 160/250, Train Loss: 0.015609, Val Loss: 0.233762\n",
      "Epoch 170/250, Train Loss: 0.016089, Val Loss: 0.232676\n",
      "Epoch 180/250, Train Loss: 0.015100, Val Loss: 0.233689\n",
      "Epoch 190/250, Train Loss: 0.015329, Val Loss: 0.233631\n",
      "Epoch 200/250, Train Loss: 0.015151, Val Loss: 0.233055\n",
      "Epoch 210/250, Train Loss: 0.015453, Val Loss: 0.235107\n",
      "Epoch 220/250, Train Loss: 0.015296, Val Loss: 0.236546\n",
      "Epoch 230/250, Train Loss: 0.014543, Val Loss: 0.235753\n",
      "Epoch 240/250, Train Loss: 0.014394, Val Loss: 0.238559\n",
      "Epoch 250/250, Train Loss: 0.014335, Val Loss: 0.237805\n"
     ]
    }
   ],
   "source": [
    "# Training loop\n",
    "epochs = 250\n",
    "# cosine_target = torch.ones(8).to(device)\n",
    "for epoch in range(epochs):\n",
    "    model.train()\n",
    "    train_loss = 0.0\n",
    "    for base, transformed in train_dataloader:\n",
    "        base, transformed = base.to(device), transformed.to(device)\n",
    "        \n",
    "        optimizer.zero_grad()\n",
    "        output = model(base)\n",
    "        loss = criterion(output, transformed)\n",
    "        loss.backward()\n",
    "        optimizer.step()\n",
    "        \n",
    "        train_loss += loss.item()\n",
    "\n",
    "    model.eval()\n",
    "    val_loss = 0.0\n",
    "    with torch.no_grad():\n",
    "        for base, transformed in val_dataloader:\n",
    "            base, transformed = base.to(device), transformed.to(device)\n",
    "            output = model(base)\n",
    "            loss = criterion(output,transformed)\n",
    "            val_loss += loss.item()\n",
    "\n",
    "    avg_train_loss = train_loss / len(train_dataloader)\n",
    "    avg_val_loss = val_loss / len(val_dataloader)\n",
    "\n",
    "    if (epoch+1)%10 == 0:\n",
    "        print(f\"Epoch {epoch+1}/{epochs}, Train Loss: {avg_train_loss:.6f}, Val Loss: {avg_val_loss:.6f}\")"
   ]
  },
  {
   "cell_type": "code",
   "execution_count": 160,
   "id": "9da7a7fe-a891-47c0-8aef-ddfe9f3d5a0a",
   "metadata": {},
   "outputs": [
    {
     "name": "stdout",
     "output_type": "stream",
     "text": [
      "Model training complete and saved.\n"
     ]
    }
   ],
   "source": [
    "# Save the trained model\n",
    "torch.save(model.state_dict(), \"models/single_transformation_model.pth\")\n",
    "print(\"Model training complete and saved.\")"
   ]
  },
  {
   "cell_type": "code",
   "execution_count": null,
   "id": "6b69152f-f820-4a0e-863b-78c9ee98eb09",
   "metadata": {},
   "outputs": [],
   "source": []
  }
 ],
 "metadata": {
  "kernelspec": {
   "display_name": "Python 3 (ipykernel)",
   "language": "python",
   "name": "python3"
  },
  "language_info": {
   "codemirror_mode": {
    "name": "ipython",
    "version": 3
   },
   "file_extension": ".py",
   "mimetype": "text/x-python",
   "name": "python",
   "nbconvert_exporter": "python",
   "pygments_lexer": "ipython3",
   "version": "3.10.16"
  }
 },
 "nbformat": 4,
 "nbformat_minor": 5
}
