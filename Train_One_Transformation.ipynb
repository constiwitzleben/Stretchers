{
 "cells": [
  {
   "cell_type": "code",
   "execution_count": 54,
   "id": "85d11e62-cba9-4b41-90ce-861bbc5d3764",
   "metadata": {},
   "outputs": [],
   "source": [
    "import torch\n",
    "import torch.nn as nn\n",
    "import torch.optim as optim\n",
    "from torch.utils.data import TensorDataset, DataLoader, random_split\n",
    "from torch.utils.tensorboard import SummaryWriter"
   ]
  },
  {
   "cell_type": "code",
   "execution_count": 44,
   "id": "85986d0b-9729-4fdf-94fa-a51e02e94b1f",
   "metadata": {},
   "outputs": [
    {
     "name": "stderr",
     "output_type": "stream",
     "text": [
      "/tmp/ipykernel_8174/826197558.py:3: FutureWarning: You are using `torch.load` with `weights_only=False` (the current default value), which uses the default pickle module implicitly. It is possible to construct malicious pickle data which will execute arbitrary code during unpickling (See https://github.com/pytorch/pytorch/blob/main/SECURITY.md#untrusted-models for more details). In a future release, the default value for `weights_only` will be flipped to `True`. This limits the functions that could be executed during unpickling. Arbitrary objects will no longer be allowed to be loaded via this mode unless they are explicitly allowlisted by the user via `torch.serialization.add_safe_globals`. We recommend you start setting `weights_only=True` for any use case where you don't have full control of the loaded file. Please open an issue on GitHub for any issues related to this experimental feature.\n",
      "  data = torch.load(file_path)\n"
     ]
    }
   ],
   "source": [
    "# Load the dataset\n",
    "file_path = \"data/DeDoDe_Descriptors_Dataset.pth\"  # Change this to your actual path\n",
    "data = torch.load(file_path)\n",
    "base_descriptors = data['descriptors']  # Assuming these keys exist\n",
    "transformed_descriptors = data['deformed_descriptors']"
   ]
  },
  {
   "cell_type": "code",
   "execution_count": 45,
   "id": "79727841-edf8-4662-9033-60ad4c36dade",
   "metadata": {},
   "outputs": [
    {
     "name": "stdout",
     "output_type": "stream",
     "text": [
      "(-0.75, 2.0, 0.6)\n"
     ]
    }
   ],
   "source": [
    "from Affine_Transformations import generate_strain_tensors\n",
    "print(generate_strain_tensors()[31])"
   ]
  },
  {
   "cell_type": "code",
   "execution_count": 46,
   "id": "adb9a44a-0665-49c8-bf92-052b441aeaf6",
   "metadata": {},
   "outputs": [],
   "source": [
    "# Select the data corresponding to transformation 0\n",
    "transformations = data['transformations']\n",
    "transformations = torch.repeat_interleave(transformations, repeats=8, dim=1).flatten()\n",
    "idx = transformations == 31\n",
    "base_descriptors = base_descriptors[idx]\n",
    "transformed_descriptors = transformed_descriptors[idx]"
   ]
  },
  {
   "cell_type": "code",
   "execution_count": 47,
   "id": "3215b0cf-6bd0-4a4c-a4aa-4d13059a200e",
   "metadata": {
    "jupyter": {
     "source_hidden": true
    }
   },
   "outputs": [
    {
     "name": "stdout",
     "output_type": "stream",
     "text": [
      "tensor([[ 0.8651,  0.2148,  0.1459,  ..., -0.3268,  0.1482,  0.4894],\n",
      "        [-0.3635,  0.0501,  0.0675,  ..., -0.6345, -0.5220,  0.2216],\n",
      "        [-0.0612,  0.5054,  0.1808,  ..., -0.2336, -1.0503, -0.0952],\n",
      "        ...,\n",
      "        [-0.5589,  0.1584,  0.0729,  ..., -0.6847,  0.3972,  0.2990],\n",
      "        [ 0.5017,  0.2304, -0.1690,  ...,  0.5677, -0.1402, -0.5549],\n",
      "        [ 0.9935, -0.2173, -0.8181,  ...,  1.5885,  0.0631, -0.5063]],\n",
      "       dtype=torch.float64)\n",
      "tensor(-0.0361, dtype=torch.float64)\n",
      "tensor(0.0546, dtype=torch.float64)\n"
     ]
    }
   ],
   "source": [
    "print(base_descriptors)\n",
    "print(transformed_descriptors[0].mean())\n",
    "print(torch.nn.functional.cosine_similarity(base_descriptors,transformed_descriptors,dim = 1).mean())\n"
   ]
  },
  {
   "cell_type": "code",
   "execution_count": 55,
   "id": "004f6d01-e2dd-41b3-9ac2-106f09ef025c",
   "metadata": {},
   "outputs": [],
   "source": [
    "# Create a dataset and dataloader\n",
    "dataset = TensorDataset(base_descriptors, transformed_descriptors)\n",
    "train_size = 0.8\n",
    "val_size = 0.2\n",
    "\n",
    "train_dataset, val_dataset = random_split(dataset,[train_size,val_size])\n",
    "\n",
    "train_dataloader = DataLoader(train_dataset, batch_size=4, shuffle=True)\n",
    "val_dataloader = DataLoader(val_dataset, batch_size=4, shuffle=False)"
   ]
  },
  {
   "cell_type": "code",
   "execution_count": 78,
   "id": "edd52c0a-f456-49be-9183-087c5118b9d0",
   "metadata": {},
   "outputs": [],
   "source": [
    "# Define the MLP model\n",
    "class MLP(nn.Module):\n",
    "    def __init__(self, input_dim, output_dim, hidden_dim=64):\n",
    "        super(MLP, self).__init__()\n",
    "        self.model = nn.Sequential(\n",
    "            # nn.Linear(input_dim,output_dim)\n",
    "            \n",
    "            nn.Linear(input_dim, hidden_dim),\n",
    "            nn.ReLU(),\n",
    "            nn.Linear(hidden_dim, output_dim)\n",
    "            \n",
    "            # nn.Linear(input_dim, hidden_dim),\n",
    "            # nn.ReLU(),\n",
    "            # nn.Linear(hidden_dim, hidden_dim),\n",
    "            # nn.ReLU(),\n",
    "            # nn.Linear(hidden_dim, output_dim)\n",
    "        )\n",
    "    \n",
    "    def forward(self, x):\n",
    "        return self.model(x)"
   ]
  },
  {
   "cell_type": "code",
   "execution_count": 79,
   "id": "d9162505-b024-4653-8b16-9130af66fb14",
   "metadata": {},
   "outputs": [
    {
     "name": "stdout",
     "output_type": "stream",
     "text": [
      "cuda\n"
     ]
    }
   ],
   "source": [
    "# Initialize the model\n",
    "device = torch.device(\"cuda\" if torch.cuda.is_available() else \"cpu\")\n",
    "print(device)\n",
    "input_dim = base_descriptors.shape[1]\n",
    "output_dim = transformed_descriptors.shape[1]\n",
    "model = MLP(input_dim,output_dim).double().to(device)"
   ]
  },
  {
   "cell_type": "code",
   "execution_count": 80,
   "id": "8db5cfb5-8e2a-4785-b207-004bdd93d0a3",
   "metadata": {},
   "outputs": [],
   "source": [
    "# Define loss function and optimizer\n",
    "criterion = nn.CosineEmbeddingLoss()\n",
    "# criterion = nn.MSELoss()\n",
    "optimizer = optim.Adam(model.parameters(), lr=0.00001)"
   ]
  },
  {
   "cell_type": "code",
   "execution_count": 81,
   "id": "968c916b-3c41-4e14-9007-b99f7c0b9579",
   "metadata": {},
   "outputs": [
    {
     "name": "stdout",
     "output_type": "stream",
     "text": [
      "Loss before training: 0.9921571320813646\n",
      "Epoch 10/250, Train Loss: 0.843191, Val Loss: 0.852013\n",
      "Epoch 20/250, Train Loss: 0.742384, Val Loss: 0.762702\n",
      "Epoch 30/250, Train Loss: 0.685352, Val Loss: 0.713706\n",
      "Epoch 40/250, Train Loss: 0.652199, Val Loss: 0.686467\n",
      "Epoch 50/250, Train Loss: 0.631022, Val Loss: 0.670173\n",
      "Epoch 60/250, Train Loss: 0.615999, Val Loss: 0.659464\n",
      "Epoch 70/250, Train Loss: 0.604215, Val Loss: 0.651780\n",
      "Epoch 80/250, Train Loss: 0.594106, Val Loss: 0.645822\n",
      "Epoch 90/250, Train Loss: 0.584919, Val Loss: 0.640936\n",
      "Epoch 100/250, Train Loss: 0.576229, Val Loss: 0.636802\n",
      "Epoch 110/250, Train Loss: 0.567809, Val Loss: 0.633184\n",
      "Epoch 120/250, Train Loss: 0.559575, Val Loss: 0.629967\n",
      "Epoch 130/250, Train Loss: 0.551430, Val Loss: 0.627094\n",
      "Epoch 140/250, Train Loss: 0.543413, Val Loss: 0.624631\n",
      "Epoch 150/250, Train Loss: 0.535493, Val Loss: 0.622534\n",
      "Epoch 160/250, Train Loss: 0.527730, Val Loss: 0.620756\n",
      "Epoch 170/250, Train Loss: 0.520127, Val Loss: 0.619326\n",
      "Epoch 180/250, Train Loss: 0.512736, Val Loss: 0.618192\n",
      "Epoch 190/250, Train Loss: 0.505563, Val Loss: 0.617410\n",
      "Epoch 200/250, Train Loss: 0.498649, Val Loss: 0.616928\n",
      "Epoch 210/250, Train Loss: 0.492020, Val Loss: 0.616639\n",
      "Epoch 220/250, Train Loss: 0.485663, Val Loss: 0.616555\n",
      "Epoch 230/250, Train Loss: 0.479575, Val Loss: 0.616583\n",
      "Epoch 240/250, Train Loss: 0.473735, Val Loss: 0.616821\n",
      "Epoch 250/250, Train Loss: 0.468166, Val Loss: 0.617125\n"
     ]
    }
   ],
   "source": [
    "# One eval round before training\n",
    "cosine_target = torch.ones(4).to(device)\n",
    "\n",
    "model.eval()\n",
    "start_loss = 0\n",
    "with torch.no_grad():\n",
    "    for base, transformed in val_dataloader:\n",
    "        base, transformed = base.to(device), transformed.to(device)\n",
    "        output = model(base)\n",
    "        # loss = criterion(output,transformed)\n",
    "        loss = criterion(output, transformed, cosine_target)\n",
    "        start_loss += loss.item()\n",
    "\n",
    "print(f'Loss before training: {start_loss/len(val_dataloader)}')\n",
    "\n",
    "writer = SummaryWriter(log_dir=\"runs/tain_one_transformation\")\n",
    "\n",
    "# Training loop\n",
    "epochs = 250\n",
    "for epoch in range(epochs):\n",
    "    model.train()\n",
    "    train_loss = 0.0\n",
    "    for base, transformed in train_dataloader:\n",
    "        base, transformed = base.to(device), transformed.to(device)\n",
    "        \n",
    "        optimizer.zero_grad()\n",
    "        output = model(base)\n",
    "        # loss = criterion(output, transformed)\n",
    "        loss = criterion(output, transformed, cosine_target)\n",
    "        loss.backward()\n",
    "        optimizer.step()\n",
    "        \n",
    "        train_loss += loss.item()\n",
    "\n",
    "    model.eval()\n",
    "    val_loss = 0.0\n",
    "    with torch.no_grad():\n",
    "        for base, transformed in val_dataloader:\n",
    "            base, transformed = base.to(device), transformed.to(device)\n",
    "            output = model(base)\n",
    "            # loss = criterion(output,transformed)\n",
    "            loss = criterion(output, transformed, cosine_target)\n",
    "            val_loss += loss.item()\n",
    "\n",
    "    avg_train_loss = train_loss / len(train_dataloader)\n",
    "    avg_val_loss = val_loss / len(val_dataloader)\n",
    "\n",
    "    writer.add_scalar(\"Loss/Train\", avg_train_loss, epoch)\n",
    "    writer.add_scalar(\"Loss/Validation\", avg_val_loss, epoch)\n",
    "\n",
    "    if (epoch+1)%10 == 0:\n",
    "        print(f\"Epoch {epoch+1}/{epochs}, Train Loss: {avg_train_loss:.6f}, Val Loss: {avg_val_loss:.6f}\")"
   ]
  },
  {
   "cell_type": "code",
   "execution_count": 160,
   "id": "9da7a7fe-a891-47c0-8aef-ddfe9f3d5a0a",
   "metadata": {},
   "outputs": [
    {
     "name": "stdout",
     "output_type": "stream",
     "text": [
      "Model training complete and saved.\n"
     ]
    }
   ],
   "source": [
    "# Save the trained model\n",
    "torch.save(model.state_dict(), \"models/single_transformation_model.pth\")\n",
    "print(\"Model training complete and saved.\")"
   ]
  },
  {
   "cell_type": "code",
   "execution_count": null,
   "id": "6b69152f-f820-4a0e-863b-78c9ee98eb09",
   "metadata": {},
   "outputs": [],
   "source": []
  }
 ],
 "metadata": {
  "kernelspec": {
   "display_name": "Python 3 (ipykernel)",
   "language": "python",
   "name": "python3"
  },
  "language_info": {
   "codemirror_mode": {
    "name": "ipython",
    "version": 3
   },
   "file_extension": ".py",
   "mimetype": "text/x-python",
   "name": "python",
   "nbconvert_exporter": "python",
   "pygments_lexer": "ipython3",
   "version": "3.10.16"
  }
 },
 "nbformat": 4,
 "nbformat_minor": 5
}
