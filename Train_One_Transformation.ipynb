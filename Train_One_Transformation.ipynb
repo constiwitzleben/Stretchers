{
 "cells": [
  {
   "cell_type": "code",
   "execution_count": 1,
   "id": "85d11e62-cba9-4b41-90ce-861bbc5d3764",
   "metadata": {},
   "outputs": [],
   "source": [
    "import torch\n",
    "import torch.nn as nn\n",
    "import torch.optim as optim\n",
    "from torch.utils.data import TensorDataset, DataLoader, random_split\n",
    "from torch.utils.tensorboard import SummaryWriter\n",
    "import numpy as np\n",
    "from Affine_Transformations import generate_strain_tensors"
   ]
  },
  {
   "cell_type": "code",
   "execution_count": 2,
   "id": "85986d0b-9729-4fdf-94fa-a51e02e94b1f",
   "metadata": {},
   "outputs": [
    {
     "name": "stderr",
     "output_type": "stream",
     "text": [
      "/tmp/ipykernel_26707/61485861.py:3: FutureWarning: You are using `torch.load` with `weights_only=False` (the current default value), which uses the default pickle module implicitly. It is possible to construct malicious pickle data which will execute arbitrary code during unpickling (See https://github.com/pytorch/pytorch/blob/main/SECURITY.md#untrusted-models for more details). In a future release, the default value for `weights_only` will be flipped to `True`. This limits the functions that could be executed during unpickling. Arbitrary objects will no longer be allowed to be loaded via this mode unless they are explicitly allowlisted by the user via `torch.serialization.add_safe_globals`. We recommend you start setting `weights_only=True` for any use case where you don't have full control of the loaded file. Please open an issue on GitHub for any issues related to this experimental feature.\n",
      "  data = torch.load(file_path)\n"
     ]
    }
   ],
   "source": [
    "# Load the dataset\n",
    "file_path = \"data/DeDoDe_Descriptors_Dataset.pth\"  # Change this to your actual path\n",
    "data = torch.load(file_path)\n",
    "all_base_descriptors = data['descriptors']# Assuming these keys exist\n",
    "all_transformed_descriptors = data['deformed_descriptors']"
   ]
  },
  {
   "cell_type": "code",
   "execution_count": 9,
   "id": "adb9a44a-0665-49c8-bf92-052b441aeaf6",
   "metadata": {},
   "outputs": [
    {
     "name": "stdout",
     "output_type": "stream",
     "text": [
      "Transformation Tensor: (-0.25, 0.0, 0.0)\n",
      "Number of Descriptions: 1023\n",
      "Mean Cosine Similarity: 0.8963428496344185\n"
     ]
    }
   ],
   "source": [
    "# Select the data corresponding to transformation x\n",
    "transformation = 37\n",
    "transformations = data['transformations']\n",
    "transformations = torch.repeat_interleave(transformations, repeats=11, dim=1).flatten()\n",
    "idx = transformations == transformation\n",
    "base_descriptors = all_base_descriptors[idx]\n",
    "transformed_descriptors = all_transformed_descriptors[idx]\n",
    "print(f'Transformation Tensor: {generate_strain_tensors()[transformation]}')\n",
    "print(f'Number of Descriptions: {len(base_descriptors)}')\n",
    "print(f'Mean Cosine Similarity: {torch.nn.functional.cosine_similarity(base_descriptors,transformed_descriptors,dim = 1).mean()}')"
   ]
  },
  {
   "cell_type": "code",
   "execution_count": 20,
   "id": "004f6d01-e2dd-41b3-9ac2-106f09ef025c",
   "metadata": {},
   "outputs": [],
   "source": [
    "# Create a dataset and dataloader\n",
    "dataset = TensorDataset(base_descriptors, transformed_descriptors)\n",
    "# dataset = TensorDataset(all_base_descriptors, all_transformed_descriptors)\n",
    "train_size = 0.8\n",
    "val_size = 0.2\n",
    "\n",
    "train_dataset, val_dataset = random_split(dataset,[train_size,val_size])\n",
    "\n",
    "train_dataloader = DataLoader(train_dataset, batch_size=64, shuffle=True, drop_last = False)\n",
    "val_dataloader = DataLoader(val_dataset, batch_size=64, shuffle=False, drop_last = False)"
   ]
  },
  {
   "cell_type": "code",
   "execution_count": 21,
   "id": "edd52c0a-f456-49be-9183-087c5118b9d0",
   "metadata": {},
   "outputs": [],
   "source": [
    "# Define the MLP model\n",
    "class MLP(nn.Module):\n",
    "    def __init__(self, input_dim, output_dim, hidden_dim=256):\n",
    "        super(MLP, self).__init__()\n",
    "        self.model = nn.Sequential(\n",
    "            nn.Linear(input_dim,output_dim)\n",
    "            \n",
    "            # nn.Linear(input_dim, hidden_dim),\n",
    "            # # nn.BatchNorm1d(hidden_dim),\n",
    "            # nn.ReLU(),\n",
    "            # nn.Linear(hidden_dim, output_dim)\n",
    "            \n",
    "            # nn.Linear(input_dim, hidden_dim),\n",
    "            # nn.ReLU(),\n",
    "            # nn.Linear(hidden_dim, hidden_dim),\n",
    "            # nn.ReLU(),\n",
    "            # nn.Linear(hidden_dim, output_dim)\n",
    "        )\n",
    "    \n",
    "    def forward(self, x):\n",
    "        return self.model(x)"
   ]
  },
  {
   "cell_type": "code",
   "execution_count": 22,
   "id": "be6af905-e838-48fb-b36c-19856f0f0964",
   "metadata": {},
   "outputs": [],
   "source": [
    "# Define residual MLP model\n",
    "class Residual_MLP(nn.Module):\n",
    "    def __init__(self, input_dim, output_dim, hidden_dim=256):\n",
    "        super(Residual_MLP, self).__init__()\n",
    "        self.model = nn.Sequential(\n",
    "            # nn.Linear(input_dim,output_dim)\n",
    "            \n",
    "            nn.Linear(input_dim, hidden_dim),\n",
    "            # nn.BatchNorm1d(hidden_dim),\n",
    "            nn.ReLU(),\n",
    "            nn.Linear(hidden_dim, output_dim)\n",
    "            \n",
    "            # nn.Linear(input_dim, hidden_dim),\n",
    "            # nn.ReLU(),\n",
    "            # nn.Linear(hidden_dim, hidden_dim),\n",
    "            # nn.ReLU(),\n",
    "            # nn.Linear(hidden_dim, output_dim)\n",
    "        )\n",
    "    \n",
    "    def forward(self, x):\n",
    "        residual = self.model(x)\n",
    "        return x + residual"
   ]
  },
  {
   "cell_type": "code",
   "execution_count": 23,
   "id": "a64dbda7-0481-49fe-83ac-131b521b1410",
   "metadata": {},
   "outputs": [],
   "source": [
    "# Define residual conditional MLP\n"
   ]
  },
  {
   "cell_type": "code",
   "execution_count": 24,
   "id": "d9162505-b024-4653-8b16-9130af66fb14",
   "metadata": {},
   "outputs": [
    {
     "name": "stdout",
     "output_type": "stream",
     "text": [
      "cuda\n"
     ]
    }
   ],
   "source": [
    "# Initialize the model\n",
    "device = torch.device(\"cuda\" if torch.cuda.is_available() else \"cpu\")\n",
    "print(device)\n",
    "input_dim = base_descriptors.shape[1]\n",
    "output_dim = transformed_descriptors.shape[1]\n",
    "# model = MLP(input_dim,output_dim).double().to(device)\n",
    "model = Residual_MLP(input_dim,output_dim,hidden_dim=128).double().to(device)"
   ]
  },
  {
   "cell_type": "code",
   "execution_count": 25,
   "id": "001ea822-ac94-4b0c-acfe-d4001611bc35",
   "metadata": {},
   "outputs": [],
   "source": [
    "# Potentially apply identity initialisation to model\n",
    "identity_initialisation = True\n",
    "\n",
    "def init_identity(m):\n",
    "    if isinstance(m, nn.Linear):\n",
    "        nn.init.eye_(m.weight)  # Initialize as identity\n",
    "        if m.bias is not None:\n",
    "            nn.init.zeros_(m.bias)\n",
    "\n",
    "if identity_initialisation and isinstance(model,MLP):\n",
    "    model.apply(init_identity)\n",
    "    print('identity applied')\n"
   ]
  },
  {
   "cell_type": "code",
   "execution_count": 26,
   "id": "8db5cfb5-8e2a-4785-b207-004bdd93d0a3",
   "metadata": {},
   "outputs": [],
   "source": [
    "# Define loss function and optimizer\n",
    "def cosine_similarity(output,target,reduction = 'mean'):\n",
    "    loss = 1 - torch.nn.functional.cosine_similarity(output,target)\n",
    "\n",
    "    if reduction == 'mean':\n",
    "        return loss.mean()\n",
    "    elif reduction == 'none':\n",
    "        return loss\n",
    "\n",
    "# criterion = nn.CosineEmbeddingLoss(reduction='none')\n",
    "# criterion = nn.MSELoss(reduction='none')\n",
    "optimizer = optim.Adam(model.parameters(), lr=0.0001)\n",
    "scheduler = torch.optim.lr_scheduler.ReduceLROnPlateau(optimizer, mode='min', factor=0.1, patience=5)"
   ]
  },
  {
   "cell_type": "code",
   "execution_count": 27,
   "id": "968c916b-3c41-4e14-9007-b99f7c0b9579",
   "metadata": {},
   "outputs": [
    {
     "name": "stdout",
     "output_type": "stream",
     "text": [
      "Loss before training: 0.13808156929684137\n",
      "Epoch 10/250, Train Loss: 0.105026, Val Loss: 0.114934\n",
      "Epoch 20/250, Train Loss: 0.097171, Val Loss: 0.109487\n",
      "Epoch 30/250, Train Loss: 0.091474, Val Loss: 0.105748\n",
      "Epoch 40/250, Train Loss: 0.086177, Val Loss: 0.102478\n",
      "Epoch 50/250, Train Loss: 0.081191, Val Loss: 0.099558\n",
      "Epoch 60/250, Train Loss: 0.076648, Val Loss: 0.096947\n",
      "Epoch 70/250, Train Loss: 0.072645, Val Loss: 0.094752\n",
      "Epoch 80/250, Train Loss: 0.069174, Val Loss: 0.092904\n",
      "Epoch 90/250, Train Loss: 0.066151, Val Loss: 0.091374\n",
      "Epoch 100/250, Train Loss: 0.063492, Val Loss: 0.090114\n",
      "Epoch 110/250, Train Loss: 0.061149, Val Loss: 0.089025\n",
      "Epoch 120/250, Train Loss: 0.059060, Val Loss: 0.088129\n",
      "Epoch 130/250, Train Loss: 0.057179, Val Loss: 0.087374\n",
      "Epoch 140/250, Train Loss: 0.055484, Val Loss: 0.086730\n",
      "Epoch 150/250, Train Loss: 0.053933, Val Loss: 0.086208\n",
      "Epoch 160/250, Train Loss: 0.052521, Val Loss: 0.085734\n",
      "Epoch 170/250, Train Loss: 0.051232, Val Loss: 0.085314\n",
      "Epoch 180/250, Train Loss: 0.050045, Val Loss: 0.084953\n",
      "Epoch 190/250, Train Loss: 0.048939, Val Loss: 0.084677\n",
      "Epoch 200/250, Train Loss: 0.047923, Val Loss: 0.084425\n",
      "Epoch 210/250, Train Loss: 0.046964, Val Loss: 0.084212\n",
      "Epoch 220/250, Train Loss: 0.046085, Val Loss: 0.084039\n",
      "Epoch 230/250, Train Loss: 0.045258, Val Loss: 0.083892\n",
      "Epoch 240/250, Train Loss: 0.044478, Val Loss: 0.083741\n",
      "Epoch 250/250, Train Loss: 0.043762, Val Loss: 0.083634\n"
     ]
    }
   ],
   "source": [
    "# One eval round before training\n",
    "model.eval()\n",
    "start_losses = []\n",
    "with torch.no_grad():\n",
    "    for base, transformed in val_dataloader:\n",
    "        base, transformed = base.to(device), transformed.to(device)\n",
    "        output = model(base)\n",
    "        # losses = criterion(output,transformed)\n",
    "        losses = cosine_similarity(output,transformed,'none')\n",
    "        loss = losses.mean()\n",
    "        start_losses.extend(losses.cpu().numpy())\n",
    "\n",
    "start_loss = np.mean(start_losses)\n",
    "print(f'Loss before training: {start_loss}')\n",
    "\n",
    "writer = SummaryWriter(log_dir=\"runs/tain_one_transformation\")\n",
    "\n",
    "# Training loop\n",
    "epochs = 250\n",
    "for epoch in range(epochs):\n",
    "    model.train()\n",
    "    train_losses = []\n",
    "    for base, transformed in train_dataloader:\n",
    "        base, transformed = base.to(device), transformed.to(device)\n",
    "        \n",
    "        optimizer.zero_grad()\n",
    "        output = model(base)\n",
    "        # losses = criterion(output, transformed)\n",
    "        losses = cosine_similarity(output,transformed,'none')\n",
    "        loss = losses.mean()\n",
    "        loss.backward()\n",
    "        optimizer.step()\n",
    "        \n",
    "        train_losses.extend(losses.cpu().detach().numpy())\n",
    "\n",
    "    model.eval()\n",
    "    val_losses = []\n",
    "    with torch.no_grad():\n",
    "        for base, transformed in val_dataloader:\n",
    "            base, transformed = base.to(device), transformed.to(device)\n",
    "            output = model(base)\n",
    "            # losses = criterion(output,transformed)\n",
    "            losses = cosine_similarity(output,transformed,'none')\n",
    "            val_losses.extend(losses.cpu().numpy())\n",
    "\n",
    "    avg_train_loss = np.mean(train_losses)\n",
    "    std_train_loss = np.std(train_losses)\n",
    "    \n",
    "    avg_val_loss = np.mean(val_losses)\n",
    "    std_val_loss = np.std(val_losses)\n",
    "\n",
    "    writer.add_scalar(\"Loss/Train\", avg_train_loss, epoch)\n",
    "    writer.add_scalar(\"Loss_std/Train\", std_train_loss, epoch)\n",
    "    writer.add_scalar(\"Loss/Validation\", avg_val_loss, epoch)\n",
    "    writer.add_scalar(\"Loss_std/Validation\", std_val_loss, epoch)\n",
    "\n",
    "    scheduler.step(avg_val_loss)\n",
    "\n",
    "    if (epoch+1)%10 == 0:\n",
    "        print(f\"Epoch {epoch+1}/{epochs}, Train Loss: {avg_train_loss:.6f}, Val Loss: {avg_val_loss:.6f}\")"
   ]
  },
  {
   "cell_type": "code",
   "execution_count": 28,
   "id": "9da7a7fe-a891-47c0-8aef-ddfe9f3d5a0a",
   "metadata": {},
   "outputs": [
    {
     "name": "stdout",
     "output_type": "stream",
     "text": [
      "Model training complete and saved.\n"
     ]
    }
   ],
   "source": [
    "# Save the trained model\n",
    "torch.save(model.state_dict(), \"models/single_transformation_model.pth\")\n",
    "print(\"Model training complete and saved.\")"
   ]
  },
  {
   "cell_type": "code",
   "execution_count": null,
   "id": "6b69152f-f820-4a0e-863b-78c9ee98eb09",
   "metadata": {},
   "outputs": [],
   "source": []
  }
 ],
 "metadata": {
  "kernelspec": {
   "display_name": "Python 3 (ipykernel)",
   "language": "python",
   "name": "python3"
  },
  "language_info": {
   "codemirror_mode": {
    "name": "ipython",
    "version": 3
   },
   "file_extension": ".py",
   "mimetype": "text/x-python",
   "name": "python",
   "nbconvert_exporter": "python",
   "pygments_lexer": "ipython3",
   "version": "3.10.16"
  }
 },
 "nbformat": 4,
 "nbformat_minor": 5
}
