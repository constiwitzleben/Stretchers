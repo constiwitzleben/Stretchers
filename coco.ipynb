{
 "cells": [
  {
   "cell_type": "code",
   "execution_count": 1,
   "metadata": {},
   "outputs": [
    {
     "name": "stdout",
     "output_type": "stream",
     "text": [
      "Downloading split 'train' to '/Users/constantinvonwitzleben/fiftyone/coco-2017/train' if necessary\n",
      "Downloading annotations to '/Users/constantinvonwitzleben/fiftyone/coco-2017/tmp-download/annotations_trainval2017.zip'\n",
      " 100% |██████|    1.9Gb/1.9Gb [26.9s elapsed, 0s remaining, 76.1Mb/s]      \n",
      "Extracting annotations to '/Users/constantinvonwitzleben/fiftyone/coco-2017/raw/instances_train2017.json'\n",
      "Downloading 1000 images\n",
      " 100% |████████████████| 1000/1000 [22.3s elapsed, 0s remaining, 44.8 images/s]      \n",
      "Writing annotations for 1000 downloaded samples to '/Users/constantinvonwitzleben/fiftyone/coco-2017/train/labels.json'\n",
      "Dataset info written to '/Users/constantinvonwitzleben/fiftyone/coco-2017/info.json'\n",
      "Loading 'coco-2017' split 'train'\n",
      " 100% |███████████████| 1000/1000 [2.2s elapsed, 0s remaining, 448.3 samples/s]      \n",
      "Dataset 'coco-2017-train-1000' created\n"
     ]
    }
   ],
   "source": [
    "import fiftyone.zoo\n",
    "\n",
    "# dataset = fiftyone.zoo.load_zoo_dataset(\"coco-2017\")\n",
    "\n",
    "dataset = fiftyone.zoo.load_zoo_dataset(\n",
    "    \"coco-2017\",\n",
    "    split=\"train\",\n",
    "    max_samples=1000,\n",
    ")\n",
    "\n",
    "# Visualize the dataset in the FiftyOne App\n",
    "# session = fiftyone.launch_app(dataset)"
   ]
  },
  {
   "cell_type": "code",
   "execution_count": 4,
   "metadata": {},
   "outputs": [
    {
     "name": "stdout",
     "output_type": "stream",
     "text": [
      "<class 'fiftyone.core.dataset.Dataset'>\n"
     ]
    }
   ],
   "source": []
  },
  {
   "cell_type": "code",
   "execution_count": 13,
   "metadata": {},
   "outputs": [
    {
     "name": "stdout",
     "output_type": "stream",
     "text": [
      "['_NO_DATASET_DOC_CLS', '__class__', '__contains__', '__copy__', '__delattr__', '__delitem__', '__dict__', '__dir__', '__doc__', '__eq__', '__format__', '__ge__', '__getattr__', '__getattribute__', '__getitem__', '__gt__', '__hash__', '__init__', '__init_subclass__', '__iter__', '__le__', '__lt__', '__module__', '__ne__', '__new__', '__reduce__', '__reduce_ex__', '__repr__', '__setattr__', '__setitem__', '__sizeof__', '__str__', '__subclasshook__', '__weakref__', '_collection', '_dataset', '_dataset_id', '_doc', '_get_field_names', '_id', '_in_db', '_instances', '_iter_label_fields', '_parse_fields', '_parse_fields_video', '_reload_backing_doc', '_reset_backing_doc', '_save', '_secure_media', '_set_backing_doc', 'add_labels', 'clear_field', 'compute_metadata', 'copy', 'created_at', 'dataset', 'dataset_id', 'field_names', 'filename', 'filepath', 'from_dict', 'from_doc', 'from_frame', 'from_json', 'get_field', 'ground_truth', 'has_field', 'id', 'in_dataset', 'iter_fields', 'last_modified_at', 'media_type', 'merge', 'metadata', 'reload', 'save', 'set_field', 'tags', 'to_dict', 'to_json', 'to_mongo_dict', 'update_fields']\n"
     ]
    }
   ],
   "source": []
  },
  {
   "cell_type": "code",
   "execution_count": null,
   "metadata": {},
   "outputs": [],
   "source": []
  }
 ],
 "metadata": {
  "kernelspec": {
   "display_name": "bwh",
   "language": "python",
   "name": "python3"
  },
  "language_info": {
   "codemirror_mode": {
    "name": "ipython",
    "version": 3
   },
   "file_extension": ".py",
   "mimetype": "text/x-python",
   "name": "python",
   "nbconvert_exporter": "python",
   "pygments_lexer": "ipython3",
   "version": "3.9.20"
  }
 },
 "nbformat": 4,
 "nbformat_minor": 2
}
